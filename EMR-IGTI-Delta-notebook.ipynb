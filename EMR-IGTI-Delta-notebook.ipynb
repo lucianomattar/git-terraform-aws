{
 "cells": [
  {
   "cell_type": "markdown",
   "metadata": {},
   "source": []
  }
 ],
 "metadata": {
  "kernelspec": {
   "display_name": "Python 3.9.5 64-bit",
   "language": "python",
   "name": "python3"
  },
  "language_info": {
   "codemirror_mode": {
    "name": "ipython",
    "version": 3
   },
   "file_extension": ".py",
   "mimetype": "text/x-python",
   "name": "python",
   "nbconvert_exporter": "python",
   "pygments_lexer": "ipython3",
   "version": "3.9.5"
  },
  "orig_nbformat": 4,
  "vscode": {
   "interpreter": {
    "hash": "a663781bdde95277ca29e86de1041fd6bce68409bb9b4204f9b87d8b0faf1c75"
   }
  }
 },
 "nbformat": 4,
 "nbformat_minor": 2
}
